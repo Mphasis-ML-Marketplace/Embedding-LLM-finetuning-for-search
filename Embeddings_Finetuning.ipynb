{
 "cells": [
  {
   "cell_type": "markdown",
   "id": "c88feb6a",
   "metadata": {},
   "source": [
    "## Embeddings Finetuning\n",
    "\n",
    "Improve searching through your knowledge base by adapting embeddings to your domain and data. This solution will fine-tune an embedding LLM and helps you host your own private model for generating vectors.\n",
    "\n",
    "This sample notebook shows you how to finetune embeddings from AWS Marketplace \n",
    "\n",
    "> **Note**: This is a reference notebook and it cannot run unless you make changes suggested in the notebook.\n",
    "\n",
    "#### Pre-requisites:\n",
    "1. **Note**: This notebook contains elements which render correctly in Jupyter interface. Open this notebook from an Amazon SageMaker Notebook Instance or Amazon SageMaker Studio.\n",
    "1. Ensure that IAM role used has **AmazonSageMakerFullAccess**\n",
    "1. Some hands-on experience using [Amazon SageMaker](https://aws.amazon.com/sagemaker/).\n",
    "1. To use this algorithm successfully, ensure that:\n",
    "    1. Either your IAM role has these three permissions and you have authority to make AWS Marketplace subscriptions in the AWS account used: \n",
    "        1. **aws-marketplace:ViewSubscriptions**\n",
    "        1. **aws-marketplace:Unsubscribe**\n",
    "        1. **aws-marketplace:Subscribe**  \n",
    "    2. or your AWS account has a subscription to For Seller to update: Embeddings-Finetuning. \n",
    "\n",
    "#### Contents:\n",
    "1. [Subscribe to the algorithm](#1.-Subscribe-to-the-algorithm)\n",
    "1. [Prepare dataset](#2.-Prepare-dataset)\n",
    "\t1. [Dataset format expected by the algorithm](#A.-Dataset-format-expected-by-the-algorithm)\n",
    "\t1. [Configure dataset](#B.-Configure-dataset)\n",
    "\t1. [Upload datasets to Amazon S3](#C.-Upload-datasets-to-Amazon-S3)\n",
    "1. [Execute the training process](#3.-Execute-optimization-model)\n",
    "\t1. [Execute model](#A.-Execute-model)\n",
    "    1. [Visualize Output](#B.-Inspect-the-Output-in-S3)\n",
    "1. [Deploy model and verify results](#4.-Deploy-model-and-verify-results)\n",
    "    1. [Deploy trained model](#A.-Deploy-trained-model)\n",
    "\t1. [Create input payload](#B.-Create-input-payload)\n",
    "    1. [Perform real time inference](#C.-Perform-real-time-inference)\n",
    "    1. [Visualize output](#D.-Visualize-output)\n",
    "    1. [Delete endpoint](#E.-Delete-Endpoint)\n",
    "1. [Perform batch inference](#5.-Perform-batch-inference)\n",
    "1. [Clean-up](#6.-Clean-up)\n",
    "   1. [Delete the model](#A.-Delete-the-model)\n",
    "   1. [Unsubscribe to the listing (optional)](#B.Unsubscribe-to-the-listing-(optional))\n",
    "\n",
    "\n",
    "#### Usage instructions\n",
    "You can run this notebook one cell at a time (By using Shift+Enter for running a cell)."
   ]
  },
  {
   "cell_type": "markdown",
   "id": "00fdf1de",
   "metadata": {},
   "source": [
    "### 1. Subscribe to the algorithm"
   ]
  },
  {
   "cell_type": "markdown",
   "id": "269dece8",
   "metadata": {},
   "source": [
    "To subscribe to the algorithm:\n",
    "1. Open the algorithm listing page **Embeddings-Finetuning**\n",
    "1. On the AWS Marketplace listing,  click on **Continue to subscribe** button.\n",
    "1. On the **Subscribe to this software** page, review and click on **\"Accept Offer\"** if you agree with EULA, pricing, and support terms. \n",
    "1. Once you click on **Continue to configuration button** and then choose a **region**, you will see a **Product Arn**. This is the algorithm ARN that you need to specify while training a custom ML model. Copy the ARN corresponding to your region and specify the same in the following cell."
   ]
  },
  {
   "cell_type": "code",
   "execution_count": 142,
   "id": "3da3e5e6",
   "metadata": {},
   "outputs": [],
   "source": [
    "algo_arn = \"embeddings-finetuning-listing\"\n"
   ]
  },
  {
   "cell_type": "markdown",
   "id": "57425215",
   "metadata": {},
   "source": [
    "### 2. Prepare dataset"
   ]
  },
  {
   "cell_type": "code",
   "execution_count": 143,
   "id": "3e296ac2",
   "metadata": {},
   "outputs": [],
   "source": [
    "import os\n",
    "import json \n",
    "import uuid\n",
    "import boto3\n",
    "import pickle\n",
    "import base64\n",
    "import tarfile\n",
    "from pprint import pprint\n",
    "from PIL import Image\n",
    "\n",
    "import numpy as np\n",
    "import pandas as pd\n",
    "\n",
    "import urllib.request\n",
    "from urllib.parse import urlparse\n",
    "\n",
    "import sagemaker as sage\n",
    "from sagemaker import ModelPackage\n",
    "from sagemaker import get_execution_role"
   ]
  },
  {
   "cell_type": "markdown",
   "id": "c81aa74a",
   "metadata": {},
   "source": [
    "#### A. Dataset format expected by the algorithm"
   ]
  },
  {
   "cell_type": "markdown",
   "id": "311b18df",
   "metadata": {},
   "source": [
    "The algorithm requires data in the format as described for best results:\n",
    "* Input File name should be train.zip\n",
    "* The input data files must contain a csv file(train.csv) containing question and answer pairs(columns:Question, Answer)and a json file containing hyperparameters( {\"BATCH_SIZE\":10,\"EPOCHS\":1} )\n",
    "* For detailed instructions, please refer sample notebook and algorithm input details."
   ]
  },
  {
   "cell_type": "markdown",
   "id": "f0c0288e",
   "metadata": {},
   "source": [
    "#### B. Configure dataset"
   ]
  },
  {
   "cell_type": "code",
   "execution_count": 144,
   "id": "bb800e3a",
   "metadata": {},
   "outputs": [],
   "source": [
    "training_dataset=\"Input/train.zip\""
   ]
  },
  {
   "cell_type": "markdown",
   "id": "27173132",
   "metadata": {},
   "source": [
    "#### C. Upload datasets to Amazon S3"
   ]
  },
  {
   "cell_type": "code",
   "execution_count": 145,
   "id": "ab542f80",
   "metadata": {},
   "outputs": [],
   "source": [
    "role = get_execution_role()"
   ]
  },
  {
   "cell_type": "code",
   "execution_count": 146,
   "id": "63fbfccf",
   "metadata": {},
   "outputs": [
    {
     "data": {
      "text/plain": [
       "'sagemaker-us-east-2-786796469737'"
      ]
     },
     "execution_count": 146,
     "metadata": {},
     "output_type": "execute_result"
    }
   ],
   "source": [
    "sagemaker_session = sage.Session()\n",
    "\n",
    "bucket = sagemaker_session.default_bucket()\n",
    "bucket"
   ]
  },
  {
   "cell_type": "code",
   "execution_count": 147,
   "id": "df0dc120",
   "metadata": {},
   "outputs": [
    {
     "name": "stdout",
     "output_type": "stream",
     "text": [
      "Training input uploaded to s3://sagemaker-us-east-2-786796469737/embeddings-finetuning/training-input-data\n"
     ]
    }
   ],
   "source": [
    "# training input location\n",
    "common_prefix = \"embeddings-finetuning\"\n",
    "training_input_prefix = common_prefix + \"/training-input-data\"\n",
    "TRAINING_WORKDIR = \"Input\" #Input directory in Jupyter Server\n",
    "training_input = sagemaker_session.upload_data(TRAINING_WORKDIR, key_prefix=training_input_prefix) #uploads data from jupyter server to S3\n",
    "print(\"Training input uploaded to \" + training_input)"
   ]
  },
  {
   "cell_type": "markdown",
   "id": "1b1dad5d",
   "metadata": {},
   "source": [
    "### 3. Execute the training process"
   ]
  },
  {
   "cell_type": "markdown",
   "id": "362a9da6",
   "metadata": {},
   "source": [
    "Now that dataset is available in an accessible Amazon S3 bucket, we are ready to execute a training pipeline to get clean sentiment class labels using clean-sentiment-classification-labels Algorithm. "
   ]
  },
  {
   "cell_type": "code",
   "execution_count": 148,
   "id": "c6300a2c",
   "metadata": {},
   "outputs": [],
   "source": [
    "output_location = 's3://{}/embeddings-finetuning/{}'.format(bucket, 'Output')"
   ]
  },
  {
   "cell_type": "markdown",
   "id": "9b16146e",
   "metadata": {},
   "source": [
    "#### A. Execute model"
   ]
  },
  {
   "cell_type": "markdown",
   "id": "328d73f0",
   "metadata": {},
   "source": [
    "For information on creating an `Estimator` object, see [documentation](https://sagemaker.readthedocs.io/en/stable/api/training/estimators.html)"
   ]
  },
  {
   "cell_type": "code",
   "execution_count": 149,
   "id": "0c982d72",
   "metadata": {},
   "outputs": [],
   "source": [
    "training_instance_type=\"ml.g4dn.xlarge\""
   ]
  },
  {
   "cell_type": "code",
   "execution_count": null,
   "id": "fdc2cb13",
   "metadata": {
    "scrolled": true
   },
   "outputs": [
    {
     "name": "stdout",
     "output_type": "stream",
     "text": [
      "2023-12-11 12:41:42 Starting - Starting the training job...\n",
      "2023-12-11 12:41:58 Starting - Preparing the instances for trainingProfilerReport-1702298502: InProgress\n",
      "......\n",
      "2023-12-11 12:42:57 Downloading - Downloading input data...\n",
      "2023-12-11 12:43:35 Training - Downloading the training image............\n",
      "2023-12-11 12:45:36 Training - Training image download completed. Training in progress...\u001b[34m==========\u001b[0m\n",
      "\u001b[34m== CUDA ==\u001b[0m\n",
      "\u001b[34m==========\u001b[0m\n",
      "\u001b[34mCUDA Version 11.7.1\u001b[0m\n",
      "\u001b[34mContainer image Copyright (c) 2016-2023, NVIDIA CORPORATION & AFFILIATES. All rights reserved.\u001b[0m\n",
      "\u001b[34mThis container image and its contents are governed by the NVIDIA Deep Learning Container License.\u001b[0m\n",
      "\u001b[34mBy pulling and using the container, you accept the terms and conditions of this license:\u001b[0m\n",
      "\u001b[34mhttps://developer.nvidia.com/ngc/nvidia-deep-learning-container-license\u001b[0m\n",
      "\u001b[34mA copy of this license is made available in this container at /NGC-DL-CONTAINER-LICENSE for your convenience.\u001b[0m\n",
      "\u001b[34mExtracting the input data\u001b[0m\n",
      "\u001b[34mCuda Available\u001b[0m\n",
      "\u001b[34m#015Epoch:   0%|          | 0/5 [00:00<?, ?it/s]\u001b[0m\n",
      "\u001b[34m#015Iteration:   0%|          | 0/117 [00:00<?, ?it/s]#033[A\u001b[0m\n",
      "\u001b[34m#015Iteration:   1%|          | 1/117 [00:01<02:57,  1.53s/it]#033[A\u001b[0m\n",
      "\u001b[34m#015Iteration:   2%|▏         | 2/117 [00:02<02:09,  1.13s/it]#033[A\u001b[0m\n",
      "\u001b[34m#015Iteration:   3%|▎         | 3/117 [00:03<01:59,  1.05s/it]#033[A\u001b[0m\n",
      "\u001b[34m#015Iteration:   3%|▎         | 4/117 [00:04<01:53,  1.01s/it]#033[A\u001b[0m\n",
      "\u001b[34m#015Iteration:   4%|▍         | 5/117 [00:04<01:50,  1.01it/s]#033[A\u001b[0m\n",
      "\u001b[34m#015Iteration:  41%|████      | 48/117 [00:44<01:03,  1.08it/s]#033[A\u001b[0m\n",
      "\u001b[34m#015Iteration:  42%|████▏     | 49/117 [00:44<01:02,  1.08it/s]#033[A\u001b[0m\n",
      "\u001b[34m#015Iteration:  43%|████▎     | 50/117 [00:54<01:31,  1.37s/it]#033[A\u001b[0m\n",
      "\u001b[34m#015Iteration:  44%|████▎     | 51/117 [00:54<01:28,  1.34s/it]#033[A\u001b[0m\n",
      "\u001b[34m#015Iteration:  44%|████▍     | 52/117 [00:55<01:25,  1.32s/it]#033[A\u001b[0m\n",
      "\u001b[34m#015Iteration:  45%|████▌     | 53/117 [00:56<01:22,  1.29s/it]#033[A\u001b[0m\n",
      "\u001b[34m#015Iteration:  46%|████▌     | 54/117 [00:57<01:20,  1.27s/it]#033[A\u001b[0m\n",
      "\u001b[34m#015Iteration:  47%|████▋     | 55/117 [00:58<01:17,  1.25s/it]#033[A\u001b[0m\n",
      "\u001b[34m#015Iteration:  48%|████▊     | 56/117 [00:59<01:15,  1.24s/it]#033[A\u001b[0m\n",
      "\u001b[34m#015Iteration:  49%|████▊     | 57/117 [01:00<01:13,  1.22s/it]#033[A\u001b[0m\n",
      "\u001b[34m#015Iteration:  50%|████▉     | 58/117 [01:01<01:11,  1.20s/it]#033[A\u001b[0m\n",
      "\u001b[34m#015Iteration:  50%|█████     | 59/117 [01:02<01:08,  1.19s/it]#033[A\u001b[0m\n",
      "\u001b[34m#015Iteration:  51%|█████▏    | 60/117 [01:03<01:06,  1.17s/it]#033[A\u001b[0m\n",
      "\u001b[34m#015Iteration:  52%|█████▏    | 61/117 [01:04<01:05,  1.16s/it]#033[A\u001b[0m\n",
      "\u001b[34m#015Iteration:  53%|█████▎    | 62/117 [01:04<01:03,  1.15s/it]#033[A\u001b[0m\n",
      "\u001b[34m#015Iteration:  54%|█████▍    | 63/117 [01:05<01:01,  1.13s/it]#033[A\u001b[0m\n",
      "\u001b[34m#015Iteration:  55%|█████▍    | 64/117 [01:06<00:59,  1.12s/it]#033[A\u001b[0m\n",
      "\u001b[34m#015Iteration:  56%|█████▌    | 65/117 [01:07<00:57,  1.11s/it]#033[A\u001b[0m\n",
      "\u001b[34m#015Iteration:  56%|█████▋    | 66/117 [01:08<00:56,  1.10s/it]#033[A\u001b[0m\n",
      "\u001b[34m#015Iteration:  57%|█████▋    | 67/117 [01:09<00:54,  1.09s/it]#033[A\u001b[0m\n",
      "\u001b[34m#015Iteration:  58%|█████▊    | 68/117 [01:10<00:53,  1.08s/it]#033[A\u001b[0m\n",
      "\u001b[34m#015Iteration:  59%|█████▉    | 69/117 [01:11<00:51,  1.07s/it]#033[A\u001b[0m\n",
      "\u001b[34m#015Iteration:  60%|█████▉    | 70/117 [01:12<00:50,  1.07s/it]#033[A\u001b[0m\n",
      "\u001b[34m#015Iteration:  61%|██████    | 71/117 [01:13<00:48,  1.06s/it]#033[A\u001b[0m\n",
      "\u001b[34m#015Iteration:  62%|██████▏   | 72/117 [01:14<00:47,  1.05s/it]#033[A\u001b[0m\n",
      "\u001b[34m#015Iteration:  62%|██████▏   | 73/117 [01:15<00:45,  1.04s/it]#033[A\u001b[0m\n",
      "\u001b[34m#015Iteration:  63%|██████▎   | 74/117 [01:15<00:44,  1.04s/it]#033[A\u001b[0m\n",
      "\u001b[34m#015Iteration:  64%|██████▍   | 75/117 [01:16<00:43,  1.03s/it]#033[A\u001b[0m\n",
      "\u001b[34m#015Iteration:  65%|██████▍   | 76/117 [01:17<00:42,  1.03s/it]#033[A\u001b[0m\n",
      "\u001b[34m#015Iteration:  66%|██████▌   | 77/117 [01:18<00:40,  1.02s/it]#033[A\u001b[0m\n",
      "\u001b[34m#015Iteration:  67%|██████▋   | 78/117 [01:19<00:39,  1.01s/it]#033[A\u001b[0m\n",
      "\u001b[34m#015Iteration:  68%|██████▊   | 79/117 [01:20<00:38,  1.01s/it]#033[A\u001b[0m\n",
      "\u001b[34m#015Iteration:  68%|██████▊   | 80/117 [01:21<00:37,  1.00s/it]#033[A\u001b[0m\n",
      "\u001b[34m#015Iteration:  69%|██████▉   | 81/117 [01:22<00:35,  1.00it/s]#033[A\u001b[0m\n",
      "\u001b[34m#015Iteration:  70%|███████   | 82/117 [01:23<00:34,  1.01it/s]#033[A\u001b[0m\n",
      "\u001b[34m#015Iteration:  71%|███████   | 83/117 [01:24<00:33,  1.01it/s]#033[A\u001b[0m\n",
      "\u001b[34m#015Iteration:  72%|███████▏  | 84/117 [01:25<00:32,  1.01it/s]#033[A\u001b[0m\n",
      "\u001b[34m#015Iteration:  73%|███████▎  | 85/117 [01:26<00:31,  1.02it/s]#033[A\u001b[0m\n",
      "\u001b[34m#015Iteration:  74%|███████▎  | 86/117 [01:26<00:30,  1.02it/s]#033[A\u001b[0m\n",
      "\u001b[34m#015Iteration:  74%|███████▍  | 87/117 [01:27<00:29,  1.02it/s]#033[A\u001b[0m\n",
      "\u001b[34m#015Iteration:  75%|███████▌  | 88/117 [01:28<00:28,  1.03it/s]#033[A\u001b[0m\n",
      "\u001b[34m#015Iteration:  76%|███████▌  | 89/117 [01:29<00:27,  1.03it/s]#033[A\u001b[0m\n",
      "\u001b[34m#015Iteration:  77%|███████▋  | 90/117 [01:30<00:26,  1.03it/s]#033[A\u001b[0m\n",
      "\u001b[34m#015Iteration:  78%|███████▊  | 91/117 [01:31<00:25,  1.03it/s]#033[A\u001b[0m\n",
      "\u001b[34m#015Iteration:  79%|███████▊  | 92/117 [01:32<00:24,  1.04it/s]#033[A\u001b[0m\n",
      "\u001b[34m#015Iteration:  79%|███████▉  | 93/117 [01:33<00:23,  1.04it/s]#033[A\u001b[0m\n",
      "\u001b[34m#015Iteration:  80%|████████  | 94/117 [01:34<00:22,  1.04it/s]#033[A\u001b[0m\n",
      "\u001b[34m#015Iteration:  81%|████████  | 95/117 [01:35<00:21,  1.04it/s]#033[A\u001b[0m\n",
      "\u001b[34m#015Iteration:  82%|████████▏ | 96/117 [01:36<00:20,  1.04it/s]#033[A\u001b[0m\n",
      "\u001b[34m#015Iteration:  83%|████████▎ | 97/117 [01:37<00:19,  1.05it/s]#033[A\u001b[0m\n",
      "\u001b[34m#015Iteration:  84%|████████▍ | 98/117 [01:38<00:18,  1.05it/s]#033[A\u001b[0m\n",
      "\u001b[34m#015Iteration:  85%|████████▍ | 99/117 [01:38<00:17,  1.05it/s]#033[A\u001b[0m\n",
      "\u001b[34m#015Iteration:  85%|████████▌ | 100/117 [01:48<00:23,  1.37s/it]#033[A\u001b[0m\n",
      "\u001b[34m#015Iteration:  86%|████████▋ | 101/117 [01:48<00:21,  1.34s/it]#033[A\u001b[0m\n",
      "\u001b[34m#015Iteration:  87%|████████▋ | 102/117 [01:49<00:19,  1.32s/it]#033[A\u001b[0m\n",
      "\u001b[34m#015Iteration:  88%|████████▊ | 103/117 [01:50<00:18,  1.30s/it]#033[A\u001b[0m\n",
      "\u001b[34m#015Iteration:  89%|████████▉ | 104/117 [01:51<00:16,  1.28s/it]#033[A\u001b[0m\n",
      "\u001b[34m#015Iteration:  90%|████████▉ | 105/117 [01:52<00:15,  1.26s/it]#033[A\u001b[0m\n",
      "\u001b[34m#015Iteration:  91%|█████████ | 106/117 [01:53<00:13,  1.24s/it]#033[A\u001b[0m\n",
      "\u001b[34m#015Iteration:  91%|█████████▏| 107/117 [01:54<00:12,  1.23s/it]#033[A\u001b[0m\n",
      "\u001b[34m#015Iteration:  92%|█████████▏| 108/117 [01:55<00:10,  1.21s/it]#033[A\u001b[0m\n",
      "\u001b[34m#015Iteration:  93%|█████████▎| 109/117 [01:56<00:09,  1.20s/it]#033[A\u001b[0m\n",
      "\u001b[34m#015Iteration:  94%|█████████▍| 110/117 [01:57<00:08,  1.18s/it]#033[A\u001b[0m\n",
      "\u001b[34m#015Iteration:  95%|█████████▍| 111/117 [01:58<00:07,  1.17s/it]#033[A\u001b[0m\n",
      "\u001b[34m#015Iteration:  96%|█████████▌| 112/117 [01:59<00:05,  1.16s/it]#033[A\u001b[0m\n",
      "\u001b[34m#015Iteration:  97%|█████████▋| 113/117 [01:59<00:04,  1.14s/it]#033[A\u001b[0m\n",
      "\u001b[34m#015Iteration:  97%|█████████▋| 114/117 [02:00<00:03,  1.13s/it]#033[A\u001b[0m\n",
      "\u001b[34m#015Iteration:  98%|█████████▊| 115/117 [02:01<00:02,  1.12s/it]#033[A\u001b[0m\n",
      "\u001b[34m#015Iteration:  99%|█████████▉| 116/117 [02:02<00:01,  1.11s/it]#033[A\u001b[0m\n",
      "\u001b[34m#015Iteration: 100%|██████████| 117/117 [02:03<00:00,  1.09s/it]#033[A#015Iteration: 100%|██████████| 117/117 [02:03<00:00,  1.05s/it]\u001b[0m\n",
      "\u001b[34m#015Epoch: 100%|██████████| 5/5 [11:03<00:00, 132.35s/it]#015Epoch: 100%|██████████| 5/5 [11:03<00:00, 132.72s/it]\u001b[0m\n",
      "\u001b[34mLLM is explicitly disabled. Using MockLLM.\u001b[0m\n",
      "\u001b[34m[nltk_data] Downloading package punkt to /tmp/llama_index...\u001b[0m\n",
      "\u001b[34m[nltk_data]   Unzipping tokenizers/punkt.zip.\u001b[0m\n",
      "\u001b[34m#015Generating embeddings:   0%|          | 0/292 [00:00<?, ?it/s]#015Generating embeddings:   3%|▎         | 10/292 [00:00<00:10, 25.93it/s]#015Generating embeddings:   7%|▋         | 20/292 [00:00<00:08, 30.88it/s]#015Generating embeddings:  10%|█         | 30/292 [00:00<00:07, 33.10it/s]#015Generating embeddings:  14%|█▎        | 40/292 [00:01<00:07, 34.17it/s]#015Generating embeddings:  17%|█▋        | 50/292 [00:01<00:06, 34.79it/s]#015Generating embeddings:  21%|██        | 60/292 [00:01<00:06, 35.15it/s]#015Generating embeddings:  24%|██▍       | 70/292 [00:02<00:06, 35.40it/s]#015Generating embeddings:  27%|██▋       | 80/292 [00:02<00:05, 35.61it/s]#015Generating embeddings:  31%|███       | 90/292 [00:02<00:05, 35.88it/s]#015Generating embeddings:  34%|███▍      | 100/292 [00:02<00:05, 35.79it/s]#015Generating embeddings:  38%|███▊      | 110/292 [00:03<00:05, 35.84it/s]#015Generating embeddings:  41%|████      | 120/292 [00:03<00:04, 35.91it/s]#015Generating embeddings:  45%|████▍     | 130/292 [00:03<00:04, 35.92it/s]#015Generating embeddings:  48%|████▊     | 140/292 [00:04<00:04, 35.86it/s]#015Generating embeddings:  51%|█████▏    | 150/292 [00:04<00:03, 35.88it/s]#015Generating embeddings:  55%|█████▍    | 160/292 [00:04<00:03, 36.06it/s]#015Generating embeddings:  58%|█████▊    | 170/292 [00:04<00:03, 36.13it/s]#015Generating embeddings:  62%|██████▏   | 180/292 [00:05<00:03, 35.96it/s]#015Generating embeddings:  65%|██████▌   | 190/292 [00:05<00:02, 35.97it/s]#015Generating embeddings:  68%|██████▊   | 200/292 [00:05<00:02, 35.84it/s]#015Generating embeddings:  72%|███████▏  | 210/292 [00:05<00:02, 35.88it/s]#015Generating embeddings:  75%|███████▌  | 220/292 [00:06<00:02, 35.95it/s]#015Generating embeddings:  79%|███████▉  | 230/292 [00:06<00:01, 35.75it/s]#015Generating embeddings:  82%|████████▏ | 240/292 [00:06<00:01, 35.65it/s]#015Generating embeddings:  86%|████████▌ | 250/292 [00:07<00:01, 35.66it/s]#015Generating embeddings:  89%|████████▉ | 260/292 [00:07<00:00, 35.69it/s]#015Generating embeddings:  92%|█████████▏| 270/292 [00:07<00:00, 35.73it/s]#015Generating embeddings:  96%|█████████▌| 280/292 [00:07<00:00, 35.83it/s]#015Generating embeddings:  99%|█████████▉| 290/292 [00:08<00:00, 35.88it/s]#015Generating embeddings: 100%|██████████| 292/292 [00:08<00:00, 35.41it/s]\n",
      "  0%|          | 0/292 [00:00<?, ?it/s]\u001b[0m\n",
      "\u001b[34mLLM is explicitly disabled. Using MockLLM.\u001b[0m\n",
      "\u001b[34m#015Generating embeddings:   0%|          | 0/292 [00:00<?, ?it/s]#015Generating embeddings:   3%|▎         | 10/292 [00:00<00:10, 26.00it/s]#015Generating embeddings:   7%|▋         | 20/292 [00:00<00:08, 30.98it/s]#015Generating embeddings:  10%|█         | 30/292 [00:00<00:07, 33.08it/s]#015Generating embeddings:  14%|█▎        | 40/292 [00:01<00:07, 33.91it/s]#015Generating embeddings:  17%|█▋        | 50/292 [00:01<00:07, 34.57it/s]#015Generating embeddings:  21%|██        | 60/292 [00:01<00:06, 35.05it/s]#015Generating embeddings:  24%|██▍       | 70/292 [00:02<00:06, 35.10it/s]#015Generating embeddings:  27%|██▋       | 80/292 [00:02<00:06, 35.23it/s]#015Generating embeddings:  31%|███       | 90/292 [00:02<00:05, 35.52it/s]#015Generating embeddings:  34%|███▍      | 100/292 [00:02<00:05, 35.44it/s]#015Generating embeddings:  38%|███▊      | 110/292 [00:03<00:05, 35.30it/s]#015Generating embeddings:  41%|████      | 120/292 [00:03<00:04, 35.43it/s]#015Generating embeddings:  45%|████▍     | 130/292 [00:03<00:04, 35.45it/s]#015Generating embeddings:  48%|████▊     | 140/292 [00:04<00:04, 35.40it/s]#015Generating embeddings:  51%|█████▏    | 150/292 [00:04<00:04, 35.37it/s]#015Generating embeddings:  55%|█████▍    | 160/292 [00:04<00:03, 35.52it/s]#015Generating embeddings:  58%|█████▊    | 170/292 [00:04<00:03, 35.58it/s]#015Generating embeddings:  62%|██████▏   | 180/292 [00:05<00:03, 35.52it/s]#015Generating embeddings:  65%|██████▌   | 190/292 [00:05<00:02, 35.72it/s]#015Generating embeddings:  68%|██████▊   | 200/292 [00:05<00:02, 35.62it/s]#015Generating embeddings:  72%|███████▏  | 210/292 [00:06<00:02, 35.59it/s]#015Generating embeddings:  75%|███████▌  | 220/292 [00:06<00:02, 35.55it/s]#015Generating embeddings:  79%|███████▉  | 230/292 [00:06<00:01, 35.44it/s]#015Generating embeddings:  82%|████████▏ | 240/292 [00:06<00:01, 35.52it/s]#015Generating embeddings:  86%|████████▌ | 250/292 [00:07<00:01, 35.39it/s]#015Generating embeddings:  89%|████████▉ | 260/292 [00:07<00:00, 35.43it/s]#015Generating embeddings:  92%|█████████▏| 270/292 [00:07<00:00, 35.49it/s]#015Generating embeddings:  96%|█████████▌| 280/292 [00:07<00:00, 35.49it/s]#015Generating embeddings:  99%|█████████▉| 290/292 [00:08<00:00, 35.39it/s]#015Generating embeddings: 100%|██████████| 292/292 [00:08<00:00, 35.06it/s]\n",
      "  0%|          | 0/292 [00:00<?, ?it/s]\u001b[0m\n",
      "\u001b[34mLLM is explicitly disabled. Using MockLLM.\u001b[0m\n",
      "\u001b[34m#015Generating embeddings:   0%|          | 0/292 [00:00<?, ?it/s]#015Generating embeddings:   3%|▎         | 10/292 [00:00<00:10, 26.32it/s]#015Generating embeddings:   7%|▋         | 20/292 [00:00<00:08, 31.36it/s]#015Generating embeddings:  10%|█         | 30/292 [00:00<00:07, 33.64it/s]#015Generating embeddings:  14%|█▎        | 40/292 [00:01<00:07, 34.36it/s]#015Generating embeddings:  17%|█▋        | 50/292 [00:01<00:06, 35.02it/s]#015Generating embeddings:  21%|██        | 60/292 [00:01<00:06, 35.55it/s]#015Generating embeddings:  24%|██▍       | 70/292 [00:02<00:06, 35.80it/s]#015Generating embeddings:  27%|██▋       | 80/292 [00:02<00:05, 36.01it/s]#015Generating embeddings:  31%|███       | 90/292 [00:02<00:05, 36.12it/s]#015Generating embeddings:  34%|███▍      | 100/292 [00:02<00:05, 36.08it/s]#015Generating embeddings:  38%|███▊      | 110/292 [00:03<00:05, 36.13it/s]#015Generating embeddings:  41%|████      | 120/292 [00:03<00:04, 36.22it/s]#015Generating embeddings:  45%|████▍     | 130/292 [00:03<00:04, 36.23it/s]#015Generating embeddings:  48%|████▊     | 140/292 [00:03<00:04, 36.26it/s]#015Generating embeddings:  51%|█████▏    | 150/292 [00:04<00:03, 36.31it/s]#015Generating embeddings:  55%|█████▍    | 160/292 [00:04<00:03, 36.44it/s]#015Generating embeddings:  58%|█████▊    | 170/292 [00:04<00:03, 36.44it/s]#015Generating embeddings:  62%|██████▏   | 180/292 [00:05<00:03, 36.33it/s]#015Generating embeddings:  65%|██████▌   | 190/292 [00:05<00:02, 36.37it/s]#015Generating embeddings:  68%|██████▊   | 200/292 [00:05<00:02, 36.29it/s]#015Generating embeddings:  72%|███████▏  | 210/292 [00:05<00:02, 36.31it/s]#015Generating embeddings:  75%|███████▌  | 220/292 [00:06<00:01, 36.36it/s]#015Generating embeddings:  79%|███████▉  | 230/292 [00:06<00:01, 36.20it/s]#015Generating embeddings:  82%|████████▏ | 240/292 [00:06<00:01, 36.32it/s]#015Generating embeddings:  86%|████████▌ | 250/292 [00:06<00:01, 36.30it/s]#015Generating embeddings:  89%|████████▉ | 260/292 [00:07<00:00, 36.23it/s]#015Generating embeddings:  92%|█████████▏| 270/292 [00:07<00:00, 36.31it/s]#015Generating embeddings:  96%|█████████▌| 280/292 [00:07<00:00, 36.32it/s]#015Generating embeddings:  99%|█████████▉| 290/292 [00:08<00:00, 36.31it/s]#015Generating embeddings: 100%|██████████| 292/292 [00:08<00:00, 35.82it/s]\u001b[0m\n",
      "\u001b[34mLLM is explicitly disabled. Using MockLLM.\u001b[0m\n",
      "\u001b[34m#015Generating embeddings:   0%|          | 0/292 [00:00<?, ?it/s]#015Generating embeddings:   3%|▎         | 10/292 [00:00<00:10, 25.94it/s]#015Generating embeddings:   7%|▋         | 20/292 [00:00<00:08, 30.96it/s]#015Generating embeddings:  10%|█         | 30/292 [00:00<00:07, 33.09it/s]#015Generating embeddings:  14%|█▎        | 40/292 [00:01<00:07, 33.52it/s]#015Generating embeddings:  17%|█▋        | 50/292 [00:01<00:07, 34.32it/s]#015Generating embeddings:  21%|██        | 60/292 [00:01<00:06, 34.80it/s]#015Generating embeddings:  24%|██▍       | 70/292 [00:02<00:06, 34.84it/s]#015Generating embeddings:  27%|██▋       | 80/292 [00:02<00:06, 34.97it/s]#015Generating embeddings:  31%|███       | 90/292 [00:02<00:05, 35.32it/s]#015Generating embeddings:  34%|███▍      | 100/292 [00:02<00:05, 35.39it/s]#015Generating embeddings:  38%|███▊      | 110/292 [00:03<00:05, 35.27it/s]#015Generating embeddings:  41%|████      | 120/292 [00:03<00:04, 35.20it/s]#015Generating embeddings:  45%|████▍     | 130/292 [00:03<00:04, 35.29it/s]#015Generating embeddings:  48%|████▊     | 140/292 [00:04<00:04, 35.17it/s]#015Generating embeddings:  51%|█████▏    | 150/292 [00:04<00:04, 35.17it/s]#015Generating embeddings:  55%|█████▍    | 160/292 [00:04<00:03, 35.38it/s]#015Generating embeddings:  58%|█████▊    | 170/292 [00:04<00:03, 35.49it/s]#015Generating embeddings:  62%|██████▏   | 180/292 [00:05<00:03, 35.49it/s]#015Generating embeddings:  65%|██████▌   | 190/292 [00:05<00:02, 35.56it/s]#015Generating embeddings:  68%|██████▊   | 200/292 [00:05<00:02, 35.55it/s]#015Generating embeddings:  72%|███████▏  | 210/292 [00:06<00:02, 35.49it/s]#015Generating embeddings:  75%|███████▌  | 220/292 [00:06<00:02, 35.40it/s]#015Generating embeddings:  79%|███████▉  | 230/292 [00:06<00:01, 35.38it/s]#015Generating embeddings:  82%|████████▏ | 240/292 [00:06<00:01, 35.55it/s]#015Generating embeddings:  86%|████████▌ | 250/292 [00:07<00:01, 35.42it/s]#015Generating embeddings:  89%|████████▉ | 260/292 [00:07<00:00, 35.40it/s]#015Generating embeddings:  92%|█████████▏| 270/292 [00:07<00:00, 35.50it/s]#015Generating embeddings:  96%|█████████▌| 280/292 [00:08<00:00, 35.47it/s]#015Generating embeddings:  99%|█████████▉| 290/292 [00:08<00:00, 35.36it/s]#015Generating embeddings: 100%|██████████| 292/292 [00:08<00:00, 34.95it/s]\u001b[0m\n",
      "\u001b[34mLLM is explicitly disabled. Using MockLLM.\u001b[0m\n",
      "\u001b[34m#015Generating embeddings:   0%|          | 0/292 [00:00<?, ?it/s]#015Generating embeddings:   3%|▎         | 10/292 [00:00<00:10, 26.33it/s]#015Generating embeddings:   7%|▋         | 20/292 [00:00<00:08, 31.37it/s]#015Generating embeddings:  10%|█         | 30/292 [00:00<00:07, 33.61it/s]#015Generating embeddings:  14%|█▎        | 40/292 [00:01<00:07, 34.38it/s]#015Generating embeddings:  17%|█▋        | 50/292 [00:01<00:06, 34.98it/s]#015Generating embeddings:  21%|██        | 60/292 [00:01<00:06, 35.40it/s]#015Generating embeddings:  24%|██▍       | 70/292 [00:02<00:06, 35.68it/s]#015Generating embeddings:  27%|██▋       | 80/292 [00:02<00:05, 35.78it/s]#015Generating embeddings:  31%|███       | 90/292 [00:02<00:05, 35.95it/s]#015Generating embeddings:  34%|███▍      | 100/292 [00:02<00:05, 36.08it/s]#015Generating embeddings:  38%|███▊      | 110/292 [00:03<00:05, 36.03it/s]#015Generating embeddings:  41%|████      | 120/292 [00:03<00:04, 36.02it/s]#015Generating embeddings:  45%|████▍     | 130/292 [00:03<00:04, 36.12it/s]#015Generating embeddings:  48%|████▊     | 140/292 [00:03<00:04, 36.10it/s]#015Generating embeddings:  51%|█████▏    | 150/292 [00:04<00:03, 36.14it/s]#015Generating embeddings:  55%|█████▍    | 160/292 [00:04<00:03, 36.35it/s]#015Generating embeddings:  58%|█████▊    | 170/292 [00:04<00:03, 36.31it/s]#015Generating embeddings:  62%|██████▏   | 180/292 [00:05<00:03, 36.18it/s]#015Generating embeddings:  65%|██████▌   | 190/292 [00:05<00:02, 36.25it/s]#015Generating embeddings:  68%|██████▊   | 200/292 [00:05<00:02, 36.23it/s]#015Generating embeddings:  72%|███████▏  | 210/292 [00:05<00:02, 36.14it/s]#015Generating embeddings:  75%|███████▌  | 220/292 [00:06<00:01, 36.16it/s]#015Generating embeddings:  79%|███████▉  | 230/292 [00:06<00:01, 36.08it/s]#015Generating embeddings:  82%|████████▏ | 240/292 [00:06<00:01, 36.16it/s]#015Generating embeddings:  86%|████████▌ | 250/292 [00:07<00:01, 36.17it/s]#015Generating embeddings:  89%|████████▉ | 260/292 [00:07<00:00, 36.13it/s]#015Generating embeddings:  92%|█████████▏| 270/292 [00:07<00:00, 36.11it/s]#015Generating embeddings:  96%|█████████▌| 280/292 [00:07<00:00, 36.11it/s]#015Generating embeddings:  99%|█████████▉| 290/292 [00:08<00:00, 36.09it/s]#015Generating embeddings: 100%|██████████| 292/292 [00:08<00:00, 35.68it/s]\n",
      "  0%|          | 0/292 [00:00<?, ?it/s]\u001b[0m\n",
      "\u001b[34mLLM is explicitly disabled. Using MockLLM.\u001b[0m\n",
      "\u001b[34m#015Generating embeddings:   0%|          | 0/292 [00:00<?, ?it/s]#015Generating embeddings:   3%|▎         | 10/292 [00:00<00:10, 25.93it/s]#015Generating embeddings:   7%|▋         | 20/292 [00:00<00:08, 30.98it/s]#015Generating embeddings:  10%|█         | 30/292 [00:00<00:07, 33.10it/s]#015Generating embeddings:  14%|█▎        | 40/292 [00:01<00:07, 33.67it/s]#015Generating embeddings:  17%|█▋        | 50/292 [00:01<00:07, 34.42it/s]#015Generating embeddings:  21%|██        | 60/292 [00:01<00:06, 34.89it/s]#015Generating embeddings:  24%|██▍       | 70/292 [00:02<00:06, 35.02it/s]#015Generating embeddings:  27%|██▋       | 80/292 [00:02<00:06, 35.15it/s]#015Generating embeddings:  31%|███       | 90/292 [00:02<00:05, 35.35it/s]#015Generating embeddings:  34%|███▍      | 100/292 [00:02<00:05, 35.40it/s]#015Generating embeddings:  38%|███▊      | 110/292 [00:03<00:05, 35.40it/s]#015Generating embeddings:  41%|████      | 120/292 [00:03<00:04, 35.54it/s]#015Generating embeddings:  45%|████▍     | 130/292 [00:03<00:04, 35.65it/s]#015Generating embeddings:  48%|████▊     | 140/292 [00:04<00:04, 35.64it/s]#015Generating embeddings:  51%|█████▏    | 150/292 [00:04<00:03, 35.55it/s]#015Generating embeddings:  55%|█████▍    | 160/292 [00:04<00:03, 35.71it/s]#015Generating embeddings:  58%|█████▊    | 170/292 [00:04<00:03, 35.65it/s]#015Generating embeddings:  62%|██████▏   | 180/292 [00:05<00:03, 35.47it/s]#015Generating embeddings:  65%|██████▌   | 190/292 [00:05<00:02, 35.48it/s]#015Generating embeddings:  68%|██████▊   | 200/292 [00:05<00:02, 35.44it/s]#015Generating embeddings:  72%|███████▏  | 210/292 [00:06<00:02, 35.36it/s]#015Generating embeddings:  75%|███████▌  | 220/292 [00:06<00:02, 35.38it/s]#015Generating embeddings:  79%|███████▉  | 230/292 [00:06<00:01, 35.36it/s]#015Generating embeddings:  82%|████████▏ | 240/292 [00:06<00:01, 35.55it/s]#015Generating embeddings:  86%|████████▌ | 250/292 [00:07<00:01, 35.61it/s]#015Generating embeddings:  89%|████████▉ | 260/292 [00:07<00:00, 35.61it/s]#015Generating embeddings:  92%|█████████▏| 270/292 [00:07<00:00, 35.61it/s]#015Generating embeddings:  96%|█████████▌| 280/292 [00:07<00:00, 35.57it/s]#015Generating embeddings:  99%|█████████▉| 290/292 [00:08<00:00, 35.49it/s]#015Generating embeddings: 100%|██████████| 292/292 [00:08<00:00, 35.07it/s]\n",
      "  0%|          | 0/292 [00:00<?, ?it/s]\u001b[0m\n",
      "\n",
      "2023-12-11 12:59:26 Uploading - Uploading generated training model\u001b[34mhit rate before finetuning: 0.8116438356164384\u001b[0m\n",
      "\u001b[34mhit rate after finetuning: 0.8767123287671232\u001b[0m\n",
      "\u001b[34mAverage distance before finetuning: 0.5347572\u001b[0m\n",
      "\u001b[34mAverage distance after finetuning: 0.44217148\u001b[0m\n",
      "\u001b[34mTraining complete.\u001b[0m\n",
      "\u001b[34mSuccess\u001b[0m\n",
      "\n",
      "2023-12-11 12:59:47 Completed - Training job completed\n",
      "Training seconds: 1010\n",
      "Billable seconds: 1010\n"
     ]
    }
   ],
   "source": [
    "#Create an estimator object for running a training job\n",
    "estimator = sage.algorithm.AlgorithmEstimator(\n",
    "    algorithm_arn=algo_arn,\n",
    "    base_job_name=\"embeddings-finetuning-algo\",\n",
    "    role=role,\n",
    "    train_instance_count=1,\n",
    "    train_instance_type=training_instance_type,\n",
    "    input_mode=\"File\",\n",
    "    output_path=output_location,\n",
    "    sagemaker_session=sagemaker_session,\n",
    "    instance_count=1,\n",
    "    instance_type=training_instance_type\n",
    ")\n",
    "\n",
    "#Run the training job.\n",
    "estimator.fit({\"training\": training_input})"
   ]
  },
  {
   "cell_type": "markdown",
   "id": "c8f29b9a",
   "metadata": {},
   "source": [
    "See this [blog-post](https://aws.amazon.com/blogs/machine-learning/easily-monitor-and-visualize-metrics-while-training-models-on-amazon-sagemaker/) for more information how to visualize metrics during the process. You can also open the training job from [Amazon SageMaker console](https://console.aws.amazon.com/sagemaker/home?#/jobs/) and monitor the metrics/logs in **Monitor** section."
   ]
  },
  {
   "cell_type": "code",
   "execution_count": 161,
   "id": "a9156eb4",
   "metadata": {},
   "outputs": [],
   "source": [
    "#output is available on following path\n",
    "estimator.output_path"
   ]
  },
  {
   "cell_type": "code",
   "execution_count": 152,
   "id": "84c16ac3",
   "metadata": {},
   "outputs": [],
   "source": [
    "parsed_url = urlparse(estimator.output_path)\n",
    "bucket_name = parsed_url.netloc\n",
    "file_key = parsed_url.path[1:]+'/'+estimator.latest_training_job.job_name+'/output/'+\"model.tar.gz\"\n",
    "\n",
    "s3_client = sagemaker_session.boto_session.client('s3')\n",
    "response = s3_client.get_object(Bucket = sagemaker_session.default_bucket(), Key = file_key)"
   ]
  },
  {
   "cell_type": "code",
   "execution_count": 153,
   "id": "c5b82bde",
   "metadata": {},
   "outputs": [],
   "source": [
    "bucketFolder = estimator.output_path.rsplit('/')[3] +'/Output/'+ estimator.latest_training_job.job_name+'/output/'+\"model.tar.gz\""
   ]
  },
  {
   "cell_type": "code",
   "execution_count": 154,
   "id": "2b3b5fc6",
   "metadata": {},
   "outputs": [
    {
     "name": "stderr",
     "output_type": "stream",
     "text": [
      "/home/ec2-user/anaconda3/envs/python3/lib/python3.6/site-packages/boto3/compat.py:88: PythonDeprecationWarning: Boto3 will no longer support Python 3.6 starting May 30, 2022. To continue receiving service updates, bug fixes, and security updates please upgrade to Python 3.7 or later. More information can be found here: https://aws.amazon.com/blogs/developer/python-support-policy-updates-for-aws-sdks-and-tools/\n",
      "  warnings.warn(warning, PythonDeprecationWarning)\n"
     ]
    },
    {
     "name": "stdout",
     "output_type": "stream",
     "text": [
      "Output file loaded from bucket\n"
     ]
    }
   ],
   "source": [
    "s3_conn = boto3.client(\"s3\")\n",
    "bucket_name=bucket\n",
    "with open('output.tar.gz', 'wb') as f:\n",
    "    s3_conn.download_fileobj(bucket_name, bucketFolder, f)\n",
    "    print(\"Output file loaded from bucket\")"
   ]
  },
  {
   "cell_type": "code",
   "execution_count": 155,
   "id": "baf48575",
   "metadata": {},
   "outputs": [],
   "source": [
    "with tarfile.open('output.tar.gz') as file:\n",
    "    file.extractall('./result')"
   ]
  },
  {
   "cell_type": "markdown",
   "id": "c220ff0b",
   "metadata": {},
   "source": [
    "#### B. Visualize output"
   ]
  },
  {
   "cell_type": "code",
   "execution_count": 157,
   "id": "7b3de2da",
   "metadata": {},
   "outputs": [
    {
     "data": {
      "image/png": "[encoded data removed]",
      "text/plain": [
       "<PIL.PngImagePlugin.PngImageFile image mode=RGBA size=1000x600 at 0x7F8A1D6AE4A8>"
      ]
     },
     "metadata": {},
     "output_type": "display_data"
    },
    {
     "data": {
      "image/png": "[encoded data removed]",
      "text/plain": [
       "<PIL.PngImagePlugin.PngImageFile image mode=RGBA size=1000x600 at 0x7F8A012FAE48>"
      ]
     },
     "metadata": {},
     "output_type": "display_data"
    }
   ],
   "source": [
    "zip_file_path = \"result/output.zip\"\n",
    "\n",
    "extracted_dir = \"result/extracted_images\"\n",
    "with zipfile.ZipFile(zip_file_path, 'r') as zip_ref:\n",
    "    zip_ref.extractall(extracted_dir)\n",
    "\n",
    "png_files = [file for file in os.listdir(extracted_dir) if file.lower().endswith('.png')]\n",
    "\n",
    "for png_file in png_files:\n",
    "    png_file_path = os.path.join(extracted_dir, png_file)\n",
    "\n",
    "    with Image.open(png_file_path) as img:\n",
    "        img.show()\n",
    "\n"
   ]
  },
  {
   "cell_type": "code",
   "execution_count": 159,
   "id": "e0e39287",
   "metadata": {},
   "outputs": [],
   "source": [
    "zip_file_path = 'result/output.zip'\n",
    "csv_file_name = 'data.csv'  \n",
    "\n",
    "with zipfile.ZipFile(zip_file_path, 'r') as zip_ref:\n",
    "    if csv_file_name in zip_ref.namelist():\n",
    "        with zip_ref.open(csv_file_name) as csv_file:\n",
    "            df = pd.read_csv(csv_file)\n",
    "            \n",
    "    else:\n",
    "        print(f\"The CSV file '{csv_file_name}' does not exist in the zip file.\")\n"
   ]
  },
  {
   "cell_type": "code",
   "execution_count": 160,
   "id": "58397c41",
   "metadata": {},
   "outputs": [
    {
     "data": {
      "text/html": [
       "<div>\n",
       "<style scoped>\n",
       "    .dataframe tbody tr th:only-of-type {\n",
       "        vertical-align: middle;\n",
       "    }\n",
       "\n",
       "    .dataframe tbody tr th {\n",
       "        vertical-align: top;\n",
       "    }\n",
       "\n",
       "    .dataframe thead th {\n",
       "        text-align: right;\n",
       "    }\n",
       "</style>\n",
       "<table border=\"1\" class=\"dataframe\">\n",
       "  <thead>\n",
       "    <tr style=\"text-align: right;\">\n",
       "      <th></th>\n",
       "      <th>Metric</th>\n",
       "      <th>Value</th>\n",
       "    </tr>\n",
       "  </thead>\n",
       "  <tbody>\n",
       "    <tr>\n",
       "      <th>0</th>\n",
       "      <td>Hit Rate Before</td>\n",
       "      <td>0.811644</td>\n",
       "    </tr>\n",
       "    <tr>\n",
       "      <th>1</th>\n",
       "      <td>Hit Rate After</td>\n",
       "      <td>0.876712</td>\n",
       "    </tr>\n",
       "    <tr>\n",
       "      <th>2</th>\n",
       "      <td>Avg Distance Before</td>\n",
       "      <td>0.534757</td>\n",
       "    </tr>\n",
       "    <tr>\n",
       "      <th>3</th>\n",
       "      <td>Avg Distance After</td>\n",
       "      <td>0.442171</td>\n",
       "    </tr>\n",
       "  </tbody>\n",
       "</table>\n",
       "</div>"
      ],
      "text/plain": [
       "                Metric     Value\n",
       "0      Hit Rate Before  0.811644\n",
       "1       Hit Rate After  0.876712\n",
       "2  Avg Distance Before  0.534757\n",
       "3   Avg Distance After  0.442171"
      ]
     },
     "execution_count": 160,
     "metadata": {},
     "output_type": "execute_result"
    }
   ],
   "source": [
    "df"
   ]
  },
  {
   "cell_type": "markdown",
   "id": "fa3c6e03",
   "metadata": {},
   "source": [
    "### 4: Deploy model and verify results"
   ]
  },
  {
   "cell_type": "code",
   "execution_count": 130,
   "id": "d170eb12",
   "metadata": {},
   "outputs": [],
   "source": [
    "model_name='embeddings-finetuning-listing'\n",
    "\n",
    "content_type='application/zip'\n",
    "\n",
    "real_time_inference_instance_type='ml.m5.2xlarge'\n",
    "batch_transform_inference_instance_type='ml.m5.2xlarge'"
   ]
  },
  {
   "cell_type": "markdown",
   "id": "58499cba",
   "metadata": {},
   "source": [
    "#### A. Deploy trained model"
   ]
  },
  {
   "cell_type": "code",
   "execution_count": 131,
   "id": "2286f506",
   "metadata": {},
   "outputs": [
    {
     "name": "stdout",
     "output_type": "stream",
     "text": [
      "..........\n",
      "---------!"
     ]
    }
   ],
   "source": [
    "from sagemaker.predictor import csv_serializer\n",
    "predictor = estimator.deploy(1, real_time_inference_instance_type)"
   ]
  },
  {
   "cell_type": "markdown",
   "id": "845a96eb",
   "metadata": {},
   "source": [
    "#### B. Create input payload"
   ]
  },
  {
   "cell_type": "code",
   "execution_count": 132,
   "id": "1ecf0acd",
   "metadata": {},
   "outputs": [],
   "source": [
    "file_name = \"Input/test_data.zip\""
   ]
  },
  {
   "cell_type": "markdown",
   "id": "755dfab4",
   "metadata": {},
   "source": [
    "#### C. Perform real-time inference"
   ]
  },
  {
   "cell_type": "code",
   "execution_count": 133,
   "id": "1bb60db3",
   "metadata": {},
   "outputs": [],
   "source": [
    "output_file_name = \"output/output.zip\""
   ]
  },
  {
   "cell_type": "code",
   "execution_count": 134,
   "id": "87ae2468",
   "metadata": {},
   "outputs": [
    {
     "name": "stdout",
     "output_type": "stream",
     "text": [
      "{\r\n",
      "    \"ContentType\": \"application/zip\",\r\n",
      "    \"InvokedProductionVariant\": \"AllTraffic\"\r\n",
      "}\r\n"
     ]
    }
   ],
   "source": [
    "!aws sagemaker-runtime invoke-endpoint \\\n",
    "    --endpoint-name $predictor.endpoint_name \\\n",
    "    --body fileb://$file_name \\\n",
    "    --content-type $content_type \\\n",
    "    --region $sagemaker_session.boto_region_name \\\n",
    "    --cli-read-timeout 1200 \\\n",
    "    $output_file_name"
   ]
  },
  {
   "cell_type": "markdown",
   "id": "db850b2b",
   "metadata": {},
   "source": [
    "#### D. Visualize output"
   ]
  },
  {
   "cell_type": "code",
   "execution_count": 135,
   "id": "c1d04e98",
   "metadata": {},
   "outputs": [],
   "source": [
    "zip_file_path = 'output/output.zip'\n",
    "csv_file_name = 'embeddings.csv'  \n",
    "\n",
    "with zipfile.ZipFile(zip_file_path, 'r') as zip_ref:\n",
    "    if csv_file_name in zip_ref.namelist():\n",
    "        with zip_ref.open(csv_file_name) as csv_file:\n",
    "            df = pd.read_csv(csv_file)\n",
    "            \n",
    "    else:\n",
    "        print(f\"The CSV file '{csv_file_name}' does not exist in the zip file.\")\n"
   ]
  },
  {
   "cell_type": "code",
   "execution_count": 136,
   "id": "d59d8c07",
   "metadata": {},
   "outputs": [
    {
     "data": {
      "text/html": [
       "<div>\n",
       "<style scoped>\n",
       "    .dataframe tbody tr th:only-of-type {\n",
       "        vertical-align: middle;\n",
       "    }\n",
       "\n",
       "    .dataframe tbody tr th {\n",
       "        vertical-align: top;\n",
       "    }\n",
       "\n",
       "    .dataframe thead th {\n",
       "        text-align: right;\n",
       "    }\n",
       "</style>\n",
       "<table border=\"1\" class=\"dataframe\">\n",
       "  <thead>\n",
       "    <tr style=\"text-align: right;\">\n",
       "      <th></th>\n",
       "      <th>text</th>\n",
       "      <th>text_embeds</th>\n",
       "    </tr>\n",
       "  </thead>\n",
       "  <tbody>\n",
       "    <tr>\n",
       "      <th>0</th>\n",
       "      <td>What are the potential consequences for the Is...</td>\n",
       "      <td>[ 3.71258296e-02 -1.68069508e-02 -4.54866290e-...</td>\n",
       "    </tr>\n",
       "    <tr>\n",
       "      <th>1</th>\n",
       "      <td>How can fluctuations in MAPCs, Trips, Adjusted...</td>\n",
       "      <td>[-3.17668319e-02 -2.85530910e-02 -1.23619400e-...</td>\n",
       "    </tr>\n",
       "    <tr>\n",
       "      <th>2</th>\n",
       "      <td>How is \"Disability\" defined in the context of ...</td>\n",
       "      <td>[-2.24810205e-02 -2.04069689e-02 -5.77819869e-...</td>\n",
       "    </tr>\n",
       "    <tr>\n",
       "      <th>3</th>\n",
       "      <td>According to the context information, what is ...</td>\n",
       "      <td>[-1.97536666e-02 -2.96230633e-02 -3.52535979e-...</td>\n",
       "    </tr>\n",
       "    <tr>\n",
       "      <th>4</th>\n",
       "      <td>How can the 2025 Convertible Notes be redeemed...</td>\n",
       "      <td>[-5.27026877e-02 -7.66259134e-02  6.09034114e-...</td>\n",
       "    </tr>\n",
       "    <tr>\n",
       "      <th>...</th>\n",
       "      <td>...</td>\n",
       "      <td>...</td>\n",
       "    </tr>\n",
       "    <tr>\n",
       "      <th>287</th>\n",
       "      <td>In the event of a breach or threatened breach ...</td>\n",
       "      <td>[ 2.67439540e-02 -9.09338519e-03  2.00641192e-...</td>\n",
       "    </tr>\n",
       "    <tr>\n",
       "      <th>288</th>\n",
       "      <td>In Section 5.06, what are the requirements for...</td>\n",
       "      <td>[-9.08927433e-03 -3.74701656e-02  2.61912048e-...</td>\n",
       "    </tr>\n",
       "    <tr>\n",
       "      <th>289</th>\n",
       "      <td>What are the specific provisions that require ...</td>\n",
       "      <td>[ 2.06268486e-02 -5.43972328e-02 -3.67730670e-...</td>\n",
       "    </tr>\n",
       "    <tr>\n",
       "      <th>290</th>\n",
       "      <td>According to the Supplemental Release Agreemen...</td>\n",
       "      <td>[-3.73779498e-02 -1.78132746e-02  1.52176376e-...</td>\n",
       "    </tr>\n",
       "    <tr>\n",
       "      <th>291</th>\n",
       "      <td>What are the potential implications for the co...</td>\n",
       "      <td>[-2.21812371e-02  1.37999346e-02 -5.65258898e-...</td>\n",
       "    </tr>\n",
       "  </tbody>\n",
       "</table>\n",
       "<p>292 rows × 2 columns</p>\n",
       "</div>"
      ],
      "text/plain": [
       "                                                  text  \\\n",
       "0    What are the potential consequences for the Is...   \n",
       "1    How can fluctuations in MAPCs, Trips, Adjusted...   \n",
       "2    How is \"Disability\" defined in the context of ...   \n",
       "3    According to the context information, what is ...   \n",
       "4    How can the 2025 Convertible Notes be redeemed...   \n",
       "..                                                 ...   \n",
       "287  In the event of a breach or threatened breach ...   \n",
       "288  In Section 5.06, what are the requirements for...   \n",
       "289  What are the specific provisions that require ...   \n",
       "290  According to the Supplemental Release Agreemen...   \n",
       "291  What are the potential implications for the co...   \n",
       "\n",
       "                                           text_embeds  \n",
       "0    [ 3.71258296e-02 -1.68069508e-02 -4.54866290e-...  \n",
       "1    [-3.17668319e-02 -2.85530910e-02 -1.23619400e-...  \n",
       "2    [-2.24810205e-02 -2.04069689e-02 -5.77819869e-...  \n",
       "3    [-1.97536666e-02 -2.96230633e-02 -3.52535979e-...  \n",
       "4    [-5.27026877e-02 -7.66259134e-02  6.09034114e-...  \n",
       "..                                                 ...  \n",
       "287  [ 2.67439540e-02 -9.09338519e-03  2.00641192e-...  \n",
       "288  [-9.08927433e-03 -3.74701656e-02  2.61912048e-...  \n",
       "289  [ 2.06268486e-02 -5.43972328e-02 -3.67730670e-...  \n",
       "290  [-3.73779498e-02 -1.78132746e-02  1.52176376e-...  \n",
       "291  [-2.21812371e-02  1.37999346e-02 -5.65258898e-...  \n",
       "\n",
       "[292 rows x 2 columns]"
      ]
     },
     "execution_count": 136,
     "metadata": {},
     "output_type": "execute_result"
    }
   ],
   "source": [
    "df"
   ]
  },
  {
   "cell_type": "markdown",
   "id": "6fad5daf",
   "metadata": {},
   "source": [
    "#### E. Delete the endpoint"
   ]
  },
  {
   "cell_type": "code",
   "execution_count": 137,
   "id": "b5cff3a3",
   "metadata": {},
   "outputs": [],
   "source": [
    "predictor.delete_endpoint(delete_endpoint_config=True)"
   ]
  },
  {
   "cell_type": "markdown",
   "id": "c0536811",
   "metadata": {},
   "source": [
    "### 5. Perform Batch inference"
   ]
  },
  {
   "cell_type": "code",
   "execution_count": 162,
   "id": "1a89927f",
   "metadata": {},
   "outputs": [],
   "source": [
    "#upload the batch-transform job input files to S3\n",
    "transform_input_folder = \"Input/test_data.zip\"\n",
    "transform_input = sagemaker_session.upload_data(transform_input_folder, key_prefix=model_name) \n",
    "print(\"Transform input uploaded to \" + transform_input)"
   ]
  },
  {
   "cell_type": "code",
   "execution_count": 139,
   "id": "a2b36d96",
   "metadata": {},
   "outputs": [
    {
     "name": "stdout",
     "output_type": "stream",
     "text": [
      "..............\n",
      "............................................\u001b[34m==========\u001b[0m\n",
      "\u001b[34m== CUDA ==\u001b[0m\n",
      "\u001b[34m==========\u001b[0m\n",
      "\u001b[34mCUDA Version 11.7.1\u001b[0m\n",
      "\u001b[34mContainer image Copyright (c) 2016-2023, NVIDIA CORPORATION & AFFILIATES. All rights reserved.\u001b[0m\n",
      "\u001b[34mThis container image and its contents are governed by the NVIDIA Deep Learning Container License.\u001b[0m\n",
      "\u001b[34mBy pulling and using the container, you accept the terms and conditions of this license:\u001b[0m\n",
      "\u001b[34mhttps://developer.nvidia.com/ngc/nvidia-deep-learning-container-license\u001b[0m\n",
      "\u001b[34mA copy of this license is made available in this container at /NGC-DL-CONTAINER-LICENSE for your convenience.\u001b[0m\n",
      "\u001b[34mWARNING: The NVIDIA Driver was not detected.  GPU functionality will not be available.\n",
      "   Use the NVIDIA Container Toolkit to start this container with GPU support; see\n",
      "   https://docs.nvidia.com/datacenter/cloud-native/ .\u001b[0m\n",
      "\u001b[34m * Serving Flask app 'serve'\n",
      " * Debug mode: off\u001b[0m\n",
      "\u001b[34m#033[31m#033[1mWARNING: This is a development server. Do not use it in a production deployment. Use a production WSGI server instead.#033[0m\n",
      " * Running on all addresses (0.0.0.0)\n",
      " * Running on http://127.0.0.1:8080\n",
      " * Running on http://169.254.255.131:8080\u001b[0m\n",
      "\u001b[34m#033[33mPress CTRL+C to quit#033[0m\u001b[0m\n",
      "\u001b[34m169.254.255.130 - - [07/Dec/2023 13:33:24] \"GET /ping HTTP/1.1\" 200 -\u001b[0m\n",
      "\u001b[34m169.254.255.130 - - [07/Dec/2023 13:33:24] \"#033[33mGET /execution-parameters HTTP/1.1#033[0m\" 404 -\u001b[0m\n",
      "\u001b[34mExtracting all the files now...\u001b[0m\n",
      "\u001b[34m['output', 'results', 'serve', 'input', 'model', 'train']\u001b[0m\n",
      "\u001b[34m/opt/ml/input/data/inference/test_data/test.csv\u001b[0m\n",
      "\u001b[34minput read\u001b[0m\n",
      "\u001b[35m * Serving Flask app 'serve'\n",
      " * Debug mode: off\u001b[0m\n",
      "\u001b[35m#033[31m#033[1mWARNING: This is a development server. Do not use it in a production deployment. Use a production WSGI server instead.#033[0m\n",
      " * Running on all addresses (0.0.0.0)\n",
      " * Running on http://127.0.0.1:8080\n",
      " * Running on http://169.254.255.131:8080\u001b[0m\n",
      "\u001b[35m#033[33mPress CTRL+C to quit#033[0m\u001b[0m\n",
      "\u001b[35m169.254.255.130 - - [07/Dec/2023 13:33:24] \"GET /ping HTTP/1.1\" 200 -\u001b[0m\n",
      "\u001b[35m169.254.255.130 - - [07/Dec/2023 13:33:24] \"#033[33mGET /execution-parameters HTTP/1.1#033[0m\" 404 -\u001b[0m\n",
      "\u001b[35mExtracting all the files now...\u001b[0m\n",
      "\u001b[35m['output', 'results', 'serve', 'input', 'model', 'train']\u001b[0m\n",
      "\u001b[35m/opt/ml/input/data/inference/test_data/test.csv\u001b[0m\n",
      "\u001b[35minput read\u001b[0m\n",
      "\u001b[32m2023-12-07T13:33:24.460:[sagemaker logs]: MaxConcurrentTransforms=1, MaxPayloadInMB=6, BatchStrategy=MULTI_RECORD\u001b[0m\n",
      "\n",
      "\u001b[34m==========\u001b[0m\n",
      "\u001b[34m== CUDA ==\u001b[0m\n",
      "\u001b[34m==========\u001b[0m\n",
      "\u001b[34mCUDA Version 11.7.1\u001b[0m\n",
      "\u001b[34mContainer image Copyright (c) 2016-2023, NVIDIA CORPORATION & AFFILIATES. All rights reserved.\u001b[0m\n",
      "\u001b[34mThis container image and its contents are governed by the NVIDIA Deep Learning Container License.\u001b[0m\n",
      "\u001b[34mBy pulling and using the container, you accept the terms and conditions of this license:\u001b[0m\n",
      "\u001b[34mhttps://developer.nvidia.com/ngc/nvidia-deep-learning-container-license\u001b[0m\n",
      "\u001b[34mA copy of this license is made available in this container at /NGC-DL-CONTAINER-LICENSE for your convenience.\u001b[0m\n",
      "\u001b[34mWARNING: The NVIDIA Driver was not detected.  GPU functionality will not be available.\n",
      "   Use the NVIDIA Container Toolkit to start this container with GPU support; see\n",
      "   https://docs.nvidia.com/datacenter/cloud-native/ .\u001b[0m\n",
      "\u001b[35m==========\u001b[0m\n",
      "\u001b[35m== CUDA ==\u001b[0m\n",
      "\u001b[35m==========\u001b[0m\n",
      "\u001b[35mCUDA Version 11.7.1\u001b[0m\n",
      "\u001b[35mContainer image Copyright (c) 2016-2023, NVIDIA CORPORATION & AFFILIATES. All rights reserved.\u001b[0m\n",
      "\u001b[35mThis container image and its contents are governed by the NVIDIA Deep Learning Container License.\u001b[0m\n",
      "\u001b[35mBy pulling and using the container, you accept the terms and conditions of this license:\u001b[0m\n",
      "\u001b[35mhttps://developer.nvidia.com/ngc/nvidia-deep-learning-container-license\u001b[0m\n",
      "\u001b[35mA copy of this license is made available in this container at /NGC-DL-CONTAINER-LICENSE for your convenience.\u001b[0m\n",
      "\u001b[35mWARNING: The NVIDIA Driver was not detected.  GPU functionality will not be available.\n",
      "   Use the NVIDIA Container Toolkit to start this container with GPU support; see\n",
      "   https://docs.nvidia.com/datacenter/cloud-native/ .\u001b[0m\n",
      "\u001b[34m * Serving Flask app 'serve'\n",
      " * Debug mode: off\u001b[0m\n",
      "\u001b[34m#033[31m#033[1mWARNING: This is a development server. Do not use it in a production deployment. Use a production WSGI server instead.#033[0m\n",
      " * Running on all addresses (0.0.0.0)\n",
      " * Running on http://127.0.0.1:8080\n",
      " * Running on http://169.254.255.131:8080\u001b[0m\n",
      "\u001b[34m#033[33mPress CTRL+C to quit#033[0m\u001b[0m\n",
      "\u001b[34m169.254.255.130 - - [07/Dec/2023 13:33:24] \"GET /ping HTTP/1.1\" 200 -\u001b[0m\n",
      "\u001b[34m169.254.255.130 - - [07/Dec/2023 13:33:24] \"#033[33mGET /execution-parameters HTTP/1.1#033[0m\" 404 -\u001b[0m\n",
      "\u001b[34mExtracting all the files now...\u001b[0m\n",
      "\u001b[34m['output', 'results', 'serve', 'input', 'model', 'train']\u001b[0m\n",
      "\u001b[34m/opt/ml/input/data/inference/test_data/test.csv\u001b[0m\n",
      "\u001b[34minput read\u001b[0m\n",
      "\u001b[35m * Serving Flask app 'serve'\n",
      " * Debug mode: off\u001b[0m\n",
      "\u001b[35m#033[31m#033[1mWARNING: This is a development server. Do not use it in a production deployment. Use a production WSGI server instead.#033[0m\n",
      " * Running on all addresses (0.0.0.0)\n",
      " * Running on http://127.0.0.1:8080\n",
      " * Running on http://169.254.255.131:8080\u001b[0m\n",
      "\u001b[35m#033[33mPress CTRL+C to quit#033[0m\u001b[0m\n",
      "\u001b[35m169.254.255.130 - - [07/Dec/2023 13:33:24] \"GET /ping HTTP/1.1\" 200 -\u001b[0m\n",
      "\u001b[35m169.254.255.130 - - [07/Dec/2023 13:33:24] \"#033[33mGET /execution-parameters HTTP/1.1#033[0m\" 404 -\u001b[0m\n",
      "\u001b[35mExtracting all the files now...\u001b[0m\n",
      "\u001b[35m['output', 'results', 'serve', 'input', 'model', 'train']\u001b[0m\n",
      "\u001b[35m/opt/ml/input/data/inference/test_data/test.csv\u001b[0m\n",
      "\u001b[35minput read\u001b[0m\n",
      "\u001b[32m2023-12-07T13:33:24.460:[sagemaker logs]: MaxConcurrentTransforms=1, MaxPayloadInMB=6, BatchStrategy=MULTI_RECORD\u001b[0m\n",
      "\u001b[34membeddings saved\u001b[0m\n",
      "\u001b[34minference done\u001b[0m\n",
      "\u001b[34m169.254.255.130 - - [07/Dec/2023 13:33:41] \"POST /invocations HTTP/1.1\" 200 -\u001b[0m\n",
      "\u001b[35membeddings saved\u001b[0m\n",
      "\u001b[35minference done\u001b[0m\n",
      "\u001b[35m169.254.255.130 - - [07/Dec/2023 13:33:41] \"POST /invocations HTTP/1.1\" 200 -\u001b[0m\n"
     ]
    }
   ],
   "source": [
    "#Run the batch-transform job\n",
    "transformer = estimator.transformer(1, batch_transform_inference_instance_type)\n",
    "transformer.transform(transform_input, content_type=content_type)\n",
    "transformer.wait()"
   ]
  },
  {
   "cell_type": "code",
   "execution_count": 163,
   "id": "57a73c40",
   "metadata": {},
   "outputs": [],
   "source": [
    "transformer.output_path"
   ]
  },
  {
   "cell_type": "markdown",
   "id": "f7ce2532",
   "metadata": {},
   "source": [
    "### 6. Clean-up"
   ]
  },
  {
   "cell_type": "markdown",
   "id": "97a0c1d9",
   "metadata": {},
   "source": [
    "#### A. Delete the model"
   ]
  },
  {
   "cell_type": "code",
   "execution_count": 141,
   "id": "6506142c",
   "metadata": {},
   "outputs": [],
   "source": [
    "transformer.delete_model()"
   ]
  },
  {
   "cell_type": "markdown",
   "id": "9c8ead9a",
   "metadata": {},
   "source": [
    "#### B Unsubscribe to the listing (optional)"
   ]
  },
  {
   "cell_type": "markdown",
   "id": "d5e3944e",
   "metadata": {},
   "source": [
    "If you would like to unsubscribe to the algorithm, follow these steps. Before you cancel the subscription, ensure that you do not have any [deployable model](https://console.aws.amazon.com/sagemaker/home#/models) created from the model package or using the algorithm. Note - You can find this information by looking at the container name associated with the model. \n",
    "\n",
    "**Steps to unsubscribe to product from AWS Marketplace**:\n",
    "1. Navigate to __Machine Learning__ tab on [__Your Software subscriptions page__](https://aws.amazon.com/marketplace/ai/library?productType=ml&ref_=mlmp_gitdemo_indust)\n",
    "2. Locate the listing that you want to cancel the subscription for, and then choose __Cancel Subscription__  to cancel the subscription."
   ]
  },
  {
   "cell_type": "code",
   "execution_count": 43,
   "id": "f5535dba",
   "metadata": {},
   "outputs": [],
   "source": []
  }
 ],
 "metadata": {
  "kernelspec": {
   "display_name": "conda_python3",
   "language": "python",
   "name": "conda_python3"
  },
  "language_info": {
   "codemirror_mode": {
    "name": "ipython",
    "version": 3
   },
   "file_extension": ".py",
   "mimetype": "text/x-python",
   "name": "python",
   "nbconvert_exporter": "python",
   "pygments_lexer": "ipython3",
   "version": "3.6.13"
  }
 },
 "nbformat": 4,
 "nbformat_minor": 5
}
